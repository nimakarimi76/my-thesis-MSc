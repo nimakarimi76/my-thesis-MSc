{
 "cells": [
  {
   "cell_type": "code",
   "execution_count": 1,
   "metadata": {},
   "outputs": [],
   "source": [
    "import pandas as pd\n",
    "from sklearn.model_selection import train_test_split\n",
    "from sklearn import linear_model\n",
    "from sklearn.ensemble import RandomForestClassifier\n",
    "from sklearn.metrics import accuracy_score\n",
    "import os\n",
    "import numpy as np\n",
    "from sklearn.model_selection import cross_val_score\n"
   ]
  },
  {
   "cell_type": "code",
   "execution_count": 50,
   "metadata": {},
   "outputs": [
    {
     "data": {
      "text/html": [
       "<div>\n",
       "<style scoped>\n",
       "    .dataframe tbody tr th:only-of-type {\n",
       "        vertical-align: middle;\n",
       "    }\n",
       "\n",
       "    .dataframe tbody tr th {\n",
       "        vertical-align: top;\n",
       "    }\n",
       "\n",
       "    .dataframe thead th {\n",
       "        text-align: right;\n",
       "    }\n",
       "</style>\n",
       "<table border=\"1\" class=\"dataframe\">\n",
       "  <thead>\n",
       "    <tr style=\"text-align: right;\">\n",
       "      <th></th>\n",
       "      <th>latitude</th>\n",
       "      <th>longitude</th>\n",
       "      <th>altitude</th>\n",
       "      <th>altitude_diff</th>\n",
       "      <th>relative_elevation</th>\n",
       "      <th>distance</th>\n",
       "      <th>cum_distance</th>\n",
       "      <th>speed</th>\n",
       "      <th>lift?</th>\n",
       "      <th>lift_path</th>\n",
       "    </tr>\n",
       "  </thead>\n",
       "  <tbody>\n",
       "    <tr>\n",
       "      <th>count</th>\n",
       "      <td>246395.000000</td>\n",
       "      <td>246395.000000</td>\n",
       "      <td>246395.000000</td>\n",
       "      <td>246395.000000</td>\n",
       "      <td>246395.000000</td>\n",
       "      <td>246395.000000</td>\n",
       "      <td>246395.000000</td>\n",
       "      <td>246395.000000</td>\n",
       "      <td>246395.000000</td>\n",
       "      <td>246395.000000</td>\n",
       "    </tr>\n",
       "    <tr>\n",
       "      <th>mean</th>\n",
       "      <td>46.183239</td>\n",
       "      <td>10.960967</td>\n",
       "      <td>1266.506680</td>\n",
       "      <td>-0.012680</td>\n",
       "      <td>262.499626</td>\n",
       "      <td>20.348112</td>\n",
       "      <td>26.923287</td>\n",
       "      <td>3.852743</td>\n",
       "      <td>0.000244</td>\n",
       "      <td>0.000467</td>\n",
       "    </tr>\n",
       "    <tr>\n",
       "      <th>std</th>\n",
       "      <td>0.078900</td>\n",
       "      <td>0.085127</td>\n",
       "      <td>424.490643</td>\n",
       "      <td>8.237209</td>\n",
       "      <td>426.892697</td>\n",
       "      <td>62.215384</td>\n",
       "      <td>19.580102</td>\n",
       "      <td>3.565807</td>\n",
       "      <td>0.015603</td>\n",
       "      <td>0.021599</td>\n",
       "    </tr>\n",
       "    <tr>\n",
       "      <th>min</th>\n",
       "      <td>45.884029</td>\n",
       "      <td>10.510484</td>\n",
       "      <td>30.000000</td>\n",
       "      <td>-947.250000</td>\n",
       "      <td>-1159.211000</td>\n",
       "      <td>0.000000</td>\n",
       "      <td>0.000000</td>\n",
       "      <td>0.000000</td>\n",
       "      <td>0.000000</td>\n",
       "      <td>0.000000</td>\n",
       "    </tr>\n",
       "    <tr>\n",
       "      <th>25%</th>\n",
       "      <td>46.142949</td>\n",
       "      <td>10.942188</td>\n",
       "      <td>1004.839000</td>\n",
       "      <td>-0.827000</td>\n",
       "      <td>-1.674500</td>\n",
       "      <td>4.640000</td>\n",
       "      <td>11.217755</td>\n",
       "      <td>1.762172</td>\n",
       "      <td>0.000000</td>\n",
       "      <td>0.000000</td>\n",
       "    </tr>\n",
       "    <tr>\n",
       "      <th>50%</th>\n",
       "      <td>46.156417</td>\n",
       "      <td>10.989996</td>\n",
       "      <td>1247.733000</td>\n",
       "      <td>-0.011000</td>\n",
       "      <td>198.208000</td>\n",
       "      <td>7.030000</td>\n",
       "      <td>23.207870</td>\n",
       "      <td>3.065000</td>\n",
       "      <td>0.000000</td>\n",
       "      <td>0.000000</td>\n",
       "    </tr>\n",
       "    <tr>\n",
       "      <th>75%</th>\n",
       "      <td>46.183007</td>\n",
       "      <td>11.015397</td>\n",
       "      <td>1544.059500</td>\n",
       "      <td>0.607000</td>\n",
       "      <td>532.154500</td>\n",
       "      <td>12.520000</td>\n",
       "      <td>39.206765</td>\n",
       "      <td>5.215893</td>\n",
       "      <td>0.000000</td>\n",
       "      <td>0.000000</td>\n",
       "    </tr>\n",
       "    <tr>\n",
       "      <th>max</th>\n",
       "      <td>46.551682</td>\n",
       "      <td>11.115855</td>\n",
       "      <td>2625.868000</td>\n",
       "      <td>833.319000</td>\n",
       "      <td>1867.893000</td>\n",
       "      <td>12552.920000</td>\n",
       "      <td>107.941840</td>\n",
       "      <td>739.370000</td>\n",
       "      <td>1.000000</td>\n",
       "      <td>1.000000</td>\n",
       "    </tr>\n",
       "  </tbody>\n",
       "</table>\n",
       "</div>"
      ],
      "text/plain": [
       "            latitude      longitude       altitude  altitude_diff  \\\n",
       "count  246395.000000  246395.000000  246395.000000  246395.000000   \n",
       "mean       46.183239      10.960967    1266.506680      -0.012680   \n",
       "std         0.078900       0.085127     424.490643       8.237209   \n",
       "min        45.884029      10.510484      30.000000    -947.250000   \n",
       "25%        46.142949      10.942188    1004.839000      -0.827000   \n",
       "50%        46.156417      10.989996    1247.733000      -0.011000   \n",
       "75%        46.183007      11.015397    1544.059500       0.607000   \n",
       "max        46.551682      11.115855    2625.868000     833.319000   \n",
       "\n",
       "       relative_elevation       distance   cum_distance          speed  \\\n",
       "count       246395.000000  246395.000000  246395.000000  246395.000000   \n",
       "mean           262.499626      20.348112      26.923287       3.852743   \n",
       "std            426.892697      62.215384      19.580102       3.565807   \n",
       "min          -1159.211000       0.000000       0.000000       0.000000   \n",
       "25%             -1.674500       4.640000      11.217755       1.762172   \n",
       "50%            198.208000       7.030000      23.207870       3.065000   \n",
       "75%            532.154500      12.520000      39.206765       5.215893   \n",
       "max           1867.893000   12552.920000     107.941840     739.370000   \n",
       "\n",
       "               lift?      lift_path  \n",
       "count  246395.000000  246395.000000  \n",
       "mean        0.000244       0.000467  \n",
       "std         0.015603       0.021599  \n",
       "min         0.000000       0.000000  \n",
       "25%         0.000000       0.000000  \n",
       "50%         0.000000       0.000000  \n",
       "75%         0.000000       0.000000  \n",
       "max         1.000000       1.000000  "
      ]
     },
     "execution_count": 50,
     "metadata": {},
     "output_type": "execute_result"
    }
   ],
   "source": [
    "# Load data from multiple CSV files\n",
    "csv_dir = \"./data/csv_train/\"\n",
    "file_path = os.listdir(csv_dir)\n",
    "\n",
    "data_frames = [pd.read_csv(f'./data/csv_train/{file}')\n",
    "               for file in file_path]\n",
    "combined_data = pd.concat(data_frames, ignore_index=False)\n",
    "\n",
    "combined_data.describe()"
   ]
  },
  {
   "cell_type": "code",
   "execution_count": 34,
   "metadata": {},
   "outputs": [
    {
     "name": "stdout",
     "output_type": "stream",
     "text": [
      "the entire dataset\"s shape: (246395, 11)\n",
      "x_train shape: (197116, 3)\n",
      "x_test shape: (49279,)\n"
     ]
    }
   ],
   "source": [
    "# Select relevant features (columns)\n",
    "# features = [\"distance\", \"altitude_diff\"]\n",
    "features = [\"distance\", \"altitude_diff\", \"speed\"]\n",
    "# Define the target column\n",
    "target = \"lift?\"\n",
    "\n",
    "\n",
    "X = combined_data[features]\n",
    "y = combined_data[target]\n",
    "\n",
    "# Split data into training and testing sets\n",
    "X_train, X_test, y_train, y_test = train_test_split(\n",
    "    X, y, test_size=0.2, random_state=42)\n",
    "\n",
    "\n",
    "# Display the shape of the training and testing sets\n",
    "print(\"the entire dataset\\\"s shape:\", combined_data.shape)\n",
    "print(\"x_train shape:\", X_train.shape)\n",
    "print(\"x_test shape:\", y_test.shape)"
   ]
  },
  {
   "cell_type": "code",
   "execution_count": 8,
   "metadata": {},
   "outputs": [
    {
     "data": {
      "text/plain": [
       "2       1\n",
       "41      1\n",
       "42      1\n",
       "43      1\n",
       "303     1\n",
       "1       1\n",
       "10      1\n",
       "202     1\n",
       "213     1\n",
       "1042    1\n",
       "1240    1\n",
       "393     1\n",
       "2420    1\n",
       "2728    1\n",
       "4262    1\n",
       "156     1\n",
       "160     1\n",
       "1       1\n",
       "10      1\n",
       "202     1\n",
       "213     1\n",
       "1040    1\n",
       "1238    1\n",
       "1989    1\n",
       "75      1\n",
       "89      1\n",
       "219     1\n",
       "226     1\n",
       "44      1\n",
       "45      1\n",
       "303     1\n",
       "304     1\n",
       "26      1\n",
       "28      1\n",
       "30      1\n",
       "7       1\n",
       "8       1\n",
       "63      1\n",
       "174     1\n",
       "229     1\n",
       "3       1\n",
       "3822    1\n",
       "1       1\n",
       "9       1\n",
       "257     1\n",
       "268     1\n",
       "944     1\n",
       "3       1\n",
       "12      1\n",
       "98      1\n",
       "104     1\n",
       "109     1\n",
       "113     1\n",
       "116     1\n",
       "118     1\n",
       "3171    1\n",
       "4671    1\n",
       "5165    1\n",
       "6624    1\n",
       "7734    1\n",
       "Name: lift?, dtype: int64"
      ]
     },
     "execution_count": 8,
     "metadata": {},
     "output_type": "execute_result"
    }
   ],
   "source": [
    "y = combined_data[target]\n",
    "y[y == 1]"
   ]
  },
  {
   "cell_type": "code",
   "execution_count": 6,
   "metadata": {},
   "outputs": [
    {
     "data": {
      "text/html": [
       "<div>\n",
       "<style scoped>\n",
       "    .dataframe tbody tr th:only-of-type {\n",
       "        vertical-align: middle;\n",
       "    }\n",
       "\n",
       "    .dataframe tbody tr th {\n",
       "        vertical-align: top;\n",
       "    }\n",
       "\n",
       "    .dataframe thead th {\n",
       "        text-align: right;\n",
       "    }\n",
       "</style>\n",
       "<table border=\"1\" class=\"dataframe\">\n",
       "  <thead>\n",
       "    <tr style=\"text-align: right;\">\n",
       "      <th></th>\n",
       "      <th>Unnamed: 0</th>\n",
       "      <th>n</th>\n",
       "      <th>sum_of_n</th>\n",
       "    </tr>\n",
       "  </thead>\n",
       "  <tbody>\n",
       "    <tr>\n",
       "      <th>count</th>\n",
       "      <td>21.000000</td>\n",
       "      <td>21.000000</td>\n",
       "      <td>21.000000</td>\n",
       "    </tr>\n",
       "    <tr>\n",
       "      <th>mean</th>\n",
       "      <td>10.000000</td>\n",
       "      <td>2.857143</td>\n",
       "      <td>2.738095</td>\n",
       "    </tr>\n",
       "    <tr>\n",
       "      <th>std</th>\n",
       "      <td>6.204837</td>\n",
       "      <td>1.768777</td>\n",
       "      <td>1.757975</td>\n",
       "    </tr>\n",
       "    <tr>\n",
       "      <th>min</th>\n",
       "      <td>0.000000</td>\n",
       "      <td>1.000000</td>\n",
       "      <td>1.000000</td>\n",
       "    </tr>\n",
       "    <tr>\n",
       "      <th>25%</th>\n",
       "      <td>5.000000</td>\n",
       "      <td>1.000000</td>\n",
       "      <td>1.000000</td>\n",
       "    </tr>\n",
       "    <tr>\n",
       "      <th>50%</th>\n",
       "      <td>10.000000</td>\n",
       "      <td>3.000000</td>\n",
       "      <td>2.500000</td>\n",
       "    </tr>\n",
       "    <tr>\n",
       "      <th>75%</th>\n",
       "      <td>15.000000</td>\n",
       "      <td>4.000000</td>\n",
       "      <td>4.000000</td>\n",
       "    </tr>\n",
       "    <tr>\n",
       "      <th>max</th>\n",
       "      <td>20.000000</td>\n",
       "      <td>6.000000</td>\n",
       "      <td>6.000000</td>\n",
       "    </tr>\n",
       "  </tbody>\n",
       "</table>\n",
       "</div>"
      ],
      "text/plain": [
       "       Unnamed: 0          n   sum_of_n\n",
       "count   21.000000  21.000000  21.000000\n",
       "mean    10.000000   2.857143   2.738095\n",
       "std      6.204837   1.768777   1.757975\n",
       "min      0.000000   1.000000   1.000000\n",
       "25%      5.000000   1.000000   1.000000\n",
       "50%     10.000000   3.000000   2.500000\n",
       "75%     15.000000   4.000000   4.000000\n",
       "max     20.000000   6.000000   6.000000"
      ]
     },
     "execution_count": 6,
     "metadata": {},
     "output_type": "execute_result"
    }
   ],
   "source": [
    "report = pd.read_csv(f\"./data/report.csv\")\n",
    "report.describe()"
   ]
  },
  {
   "attachments": {},
   "cell_type": "markdown",
   "metadata": {},
   "source": [
    "## RF\n"
   ]
  },
  {
   "cell_type": "code",
   "execution_count": 7,
   "metadata": {},
   "outputs": [
    {
     "name": "stdout",
     "output_type": "stream",
     "text": [
      "Accuracy: 1.0\n"
     ]
    }
   ],
   "source": [
    "# Initialize and train the Random Forest model\n",
    "model_rf = RandomForestClassifier(n_estimators=100, random_state=42)\n",
    "model_rf.fit(X_train, y_train)\n",
    "\n",
    "# Make predictions on the testing set\n",
    "y_pred = model_rf.predict(X_test)\n",
    "\n",
    "# Evaluate the model\"s performance\n",
    "accuracy = accuracy_score(y_test, y_pred)\n",
    "print(\"Accuracy:\", accuracy)\n"
   ]
  },
  {
   "attachments": {},
   "cell_type": "markdown",
   "metadata": {},
   "source": [
    "#### Cross validation with RF\n"
   ]
  },
  {
   "cell_type": "code",
   "execution_count": 8,
   "metadata": {},
   "outputs": [
    {
     "name": "stdout",
     "output_type": "stream",
     "text": [
      "Cross-validation Scores: [1.         0.99716714 1.         1.         1.        ]\n",
      "Mean Accuracy: 0.9994334277620396\n"
     ]
    }
   ],
   "source": [
    "# Create a Random Forest classifier\n",
    "rf_model = RandomForestClassifier(n_estimators=100, random_state=42)\n",
    "\n",
    "# Perform cross-validation with 5 folds\n",
    "cross_val_scores = cross_val_score(rf_model, X, y, cv=5, scoring=\"accuracy\")\n",
    "\n",
    "# Print the cross-validation scores\n",
    "print(\"Cross-validation Scores:\", cross_val_scores)\n",
    "print(\"Mean Accuracy:\", cross_val_scores.mean())\n"
   ]
  },
  {
   "attachments": {},
   "cell_type": "markdown",
   "metadata": {},
   "source": [
    "## NN\n"
   ]
  },
  {
   "cell_type": "code",
   "execution_count": 9,
   "metadata": {},
   "outputs": [
    {
     "name": "stdout",
     "output_type": "stream",
     "text": [
      "Cross-validation scores:  [0.99991883 1.         0.99997971 0.99993912 0.99997971]\n",
      "Test set score:  0.9999594147608515\n"
     ]
    }
   ],
   "source": [
    "from sklearn.neural_network import MLPClassifier\n",
    "\n",
    "# Create neural network model\n",
    "model = MLPClassifier(hidden_layer_sizes=(\n",
    "    6,), activation=\"relu\", solver=\"adam\", random_state=42)\n",
    "\n",
    "# Perform 5-fold cross validation\n",
    "scores = cross_val_score(model, X, y, cv=5)\n",
    "print(\"Cross-validation scores: \", scores)\n",
    "\n",
    "# Train model on training set\n",
    "model.fit(X_train, y_train)\n",
    "\n",
    "# Evaluate model performance on test set\n",
    "print(\"Test set score: \", model.score(X_test, y_test))\n"
   ]
  },
  {
   "attachments": {},
   "cell_type": "markdown",
   "metadata": {},
   "source": [
    "### LR\n"
   ]
  },
  {
   "cell_type": "code",
   "execution_count": 48,
   "metadata": {},
   "outputs": [],
   "source": [
    "from sklearn.linear_model import LogisticRegression\n",
    "\n",
    "\n",
    "model_lr = LogisticRegression()\n",
    "y_score = model_lr.fit(X_train, y_train).predict_proba(X_test)\n"
   ]
  },
  {
   "cell_type": "code",
   "execution_count": 47,
   "metadata": {},
   "outputs": [
    {
     "name": "stderr",
     "output_type": "stream",
     "text": [
      "/Users/nimakarimi/anaconda3/lib/python3.11/site-packages/statsmodels/discrete/discrete_model.py:2383: RuntimeWarning: overflow encountered in exp\n",
      "  return 1/(1+np.exp(-X))\n"
     ]
    },
    {
     "name": "stdout",
     "output_type": "stream",
     "text": [
      "Optimization terminated successfully.\n",
      "         Current function value: 0.052064\n",
      "         Iterations 13\n",
      "                           Logit Regression Results                           \n",
      "==============================================================================\n",
      "Dep. Variable:                  lift?   No. Observations:               246395\n",
      "Model:                          Logit   Df Residuals:                   246392\n",
      "Method:                           MLE   Df Model:                            2\n",
      "Date:                Sun, 27 Aug 2023   Pseudo R-squ.:                  -21.94\n",
      "Time:                        18:51:14   Log-Likelihood:                -12828.\n",
      "converged:                       True   LL-Null:                       -559.21\n",
      "Covariance Type:            nonrobust   LLR p-value:                     1.000\n",
      "=================================================================================\n",
      "                    coef    std err          z      P>|z|      [0.025      0.975]\n",
      "---------------------------------------------------------------------------------\n",
      "distance         -0.0820      0.002    -34.983      0.000      -0.087      -0.077\n",
      "altitude_diff     0.5023      0.010     52.831      0.000       0.484       0.521\n",
      "speed            -4.4764      0.052    -85.725      0.000      -4.579      -4.374\n",
      "=================================================================================\n",
      "\n",
      "Possibly complete quasi-separation: A fraction 0.72 of observations can be\n",
      "perfectly predicted. This might indicate that there is complete\n",
      "quasi-separation. In this case some parameters will not be identified.\n",
      "distance         4.088856e-268\n",
      "altitude_diff     0.000000e+00\n",
      "speed             0.000000e+00\n",
      "dtype: float64\n"
     ]
    },
    {
     "name": "stderr",
     "output_type": "stream",
     "text": [
      "/Users/nimakarimi/anaconda3/lib/python3.11/site-packages/statsmodels/discrete/discrete_model.py:2383: RuntimeWarning: overflow encountered in exp\n",
      "  return 1/(1+np.exp(-X))\n"
     ]
    }
   ],
   "source": [
    "import statsmodels.api as sm\n",
    "\n",
    "# Fit the logistic regression model using statsmodels\n",
    "model = sm.Logit(y, X)\n",
    "result = model.fit()\n",
    "\n",
    "# Print summary including p-values\n",
    "print(result.summary())\n",
    "print(result.pvalues)\n"
   ]
  }
 ],
 "metadata": {
  "kernelspec": {
   "display_name": "base",
   "language": "python",
   "name": "python3"
  },
  "language_info": {
   "codemirror_mode": {
    "name": "ipython",
    "version": 3
   },
   "file_extension": ".py",
   "mimetype": "text/x-python",
   "name": "python",
   "nbconvert_exporter": "python",
   "pygments_lexer": "ipython3",
   "version": "3.11.3"
  },
  "orig_nbformat": 4
 },
 "nbformat": 4,
 "nbformat_minor": 2
}
