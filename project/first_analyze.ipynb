{
 "cells": [
  {
   "cell_type": "code",
   "execution_count": 2,
   "metadata": {},
   "outputs": [],
   "source": [
    "import gpxpy\n",
    "import gpxpy.gpx\n",
    "import numpy as np\n",
    "import haversine as hs\n",
    "\n",
    "\n",
    "import pandas as pd\n",
    "import matplotlib.pyplot as plt\n",
    "plt.rcParams['axes.spines.top'] = False\n",
    "plt.rcParams['axes.spines.right'] = False"
   ]
  },
  {
   "cell_type": "code",
   "execution_count": 4,
   "metadata": {},
   "outputs": [
    {
     "data": {
      "text/plain": [
       "1765"
      ]
     },
     "execution_count": 4,
     "metadata": {},
     "output_type": "execute_result"
    }
   ],
   "source": [
    "file_path = 'data/gpx_train/bear-trail.gpx'\n",
    "with open(file_path, 'r') as gpx_file:\n",
    "    gpx = gpxpy.parse(gpx_file)\n",
    "\n",
    "# * Get the number of data points (number of times geolocation was taken):\n",
    "gpx.get_track_points_no()\n"
   ]
  },
  {
   "cell_type": "code",
   "execution_count": 5,
   "metadata": {},
   "outputs": [
    {
     "data": {
      "text/plain": [
       "UphillDownhill(uphill=4365.455200000002, downhill=4357.734199999997)"
      ]
     },
     "execution_count": 5,
     "metadata": {},
     "output_type": "execute_result"
    }
   ],
   "source": [
    "# Get the number of meters of uphil and downhil ride\n",
    "# It's a roundtrip, so the numbers are almost identical\n",
    "gpx.get_uphill_downhill()"
   ]
  },
  {
   "cell_type": "code",
   "execution_count": 6,
   "metadata": {},
   "outputs": [
    {
     "data": {
      "text/plain": [
       "GPXTrack(name='Bear Trail', segments=[GPXTrackSegment(points=[...])])"
      ]
     },
     "execution_count": 6,
     "metadata": {},
     "output_type": "execute_result"
    }
   ],
   "source": [
    "gpx.tracks[0]"
   ]
  },
  {
   "cell_type": "code",
   "execution_count": 7,
   "metadata": {},
   "outputs": [
    {
     "data": {
      "text/plain": [
       "[GPXTrackPoint(46.144479, 10.96529, elevation=891.346, time=datetime.datetime(2019, 5, 24, 15, 17, 29, tzinfo=SimpleTZ(\"Z\"))),\n",
       " GPXTrackPoint(46.151617, 10.960616, elevation=1354.788, time=datetime.datetime(2019, 5, 24, 15, 17, 49, tzinfo=SimpleTZ(\"Z\"))),\n",
       " GPXTrackPoint(46.151769, 10.960604, elevation=1359.516, time=datetime.datetime(2019, 5, 24, 15, 18, 9, tzinfo=SimpleTZ(\"Z\"))),\n",
       " GPXTrackPoint(46.151881, 10.960633, elevation=1375.008, time=datetime.datetime(2019, 5, 24, 15, 18, 29, tzinfo=SimpleTZ(\"Z\"))),\n",
       " GPXTrackPoint(46.151985, 10.960997, elevation=1375.027, time=datetime.datetime(2019, 5, 24, 15, 18, 49, tzinfo=SimpleTZ(\"Z\"))),\n",
       " GPXTrackPoint(46.151981, 10.961276, elevation=1371.04, time=datetime.datetime(2019, 5, 24, 15, 19, 9, tzinfo=SimpleTZ(\"Z\"))),\n",
       " GPXTrackPoint(46.152096, 10.961668, elevation=1367.051, time=datetime.datetime(2019, 5, 24, 15, 19, 29, tzinfo=SimpleTZ(\"Z\"))),\n",
       " GPXTrackPoint(46.152312, 10.962059, elevation=1367.013, time=datetime.datetime(2019, 5, 24, 15, 19, 49, tzinfo=SimpleTZ(\"Z\"))),\n",
       " GPXTrackPoint(46.152397, 10.961877, elevation=1371.078, time=datetime.datetime(2019, 5, 24, 15, 20, 9, tzinfo=SimpleTZ(\"Z\"))),\n",
       " GPXTrackPoint(46.152349, 10.961781, elevation=1371.049, time=datetime.datetime(2019, 5, 24, 15, 20, 29, tzinfo=SimpleTZ(\"Z\")))]"
      ]
     },
     "execution_count": 7,
     "metadata": {},
     "output_type": "execute_result"
    }
   ],
   "source": [
    "gpx.tracks[0].segments[0].points[:10]"
   ]
  },
  {
   "cell_type": "code",
   "execution_count": 8,
   "metadata": {},
   "outputs": [
    {
     "data": {
      "text/plain": [
       "[{'time': datetime.datetime(2019, 5, 24, 15, 17, 29, tzinfo=SimpleTZ(\"Z\")),\n",
       "  'latitude': 46.144479,\n",
       "  'longitude': 10.96529,\n",
       "  'altitude': 891.346},\n",
       " {'time': datetime.datetime(2019, 5, 24, 15, 17, 49, tzinfo=SimpleTZ(\"Z\")),\n",
       "  'latitude': 46.151617,\n",
       "  'longitude': 10.960616,\n",
       "  'altitude': 1354.788},\n",
       " {'time': datetime.datetime(2019, 5, 24, 15, 18, 9, tzinfo=SimpleTZ(\"Z\")),\n",
       "  'latitude': 46.151769,\n",
       "  'longitude': 10.960604,\n",
       "  'altitude': 1359.516}]"
      ]
     },
     "execution_count": 8,
     "metadata": {},
     "output_type": "execute_result"
    }
   ],
   "source": [
    "route_info = []\n",
    "\n",
    "for track in gpx.tracks:\n",
    "    for segment in track.segments:\n",
    "        for point in segment.points:\n",
    "            route_info.append({\n",
    "                'time': point.time,\n",
    "                'latitude': point.latitude,\n",
    "                'longitude': point.longitude,\n",
    "                'altitude': point.elevation\n",
    "            })\n",
    "route_info[:3]"
   ]
  },
  {
   "cell_type": "code",
   "execution_count": 9,
   "metadata": {},
   "outputs": [
    {
     "data": {
      "text/html": [
       "<div>\n",
       "<style scoped>\n",
       "    .dataframe tbody tr th:only-of-type {\n",
       "        vertical-align: middle;\n",
       "    }\n",
       "\n",
       "    .dataframe tbody tr th {\n",
       "        vertical-align: top;\n",
       "    }\n",
       "\n",
       "    .dataframe thead th {\n",
       "        text-align: right;\n",
       "    }\n",
       "</style>\n",
       "<table border=\"1\" class=\"dataframe\">\n",
       "  <thead>\n",
       "    <tr style=\"text-align: right;\">\n",
       "      <th></th>\n",
       "      <th>time</th>\n",
       "      <th>latitude</th>\n",
       "      <th>longitude</th>\n",
       "      <th>altitude</th>\n",
       "    </tr>\n",
       "  </thead>\n",
       "  <tbody>\n",
       "    <tr>\n",
       "      <th>0</th>\n",
       "      <td>2019-05-24 15:17:29+00:00</td>\n",
       "      <td>46.144479</td>\n",
       "      <td>10.965290</td>\n",
       "      <td>891.346</td>\n",
       "    </tr>\n",
       "    <tr>\n",
       "      <th>1</th>\n",
       "      <td>2019-05-24 15:17:49+00:00</td>\n",
       "      <td>46.151617</td>\n",
       "      <td>10.960616</td>\n",
       "      <td>1354.788</td>\n",
       "    </tr>\n",
       "    <tr>\n",
       "      <th>2</th>\n",
       "      <td>2019-05-24 15:18:09+00:00</td>\n",
       "      <td>46.151769</td>\n",
       "      <td>10.960604</td>\n",
       "      <td>1359.516</td>\n",
       "    </tr>\n",
       "    <tr>\n",
       "      <th>3</th>\n",
       "      <td>2019-05-24 15:18:29+00:00</td>\n",
       "      <td>46.151881</td>\n",
       "      <td>10.960633</td>\n",
       "      <td>1375.008</td>\n",
       "    </tr>\n",
       "    <tr>\n",
       "      <th>4</th>\n",
       "      <td>2019-05-24 15:18:49+00:00</td>\n",
       "      <td>46.151985</td>\n",
       "      <td>10.960997</td>\n",
       "      <td>1375.027</td>\n",
       "    </tr>\n",
       "  </tbody>\n",
       "</table>\n",
       "</div>"
      ],
      "text/plain": [
       "                       time   latitude  longitude  altitude\n",
       "0 2019-05-24 15:17:29+00:00  46.144479  10.965290   891.346\n",
       "1 2019-05-24 15:17:49+00:00  46.151617  10.960616  1354.788\n",
       "2 2019-05-24 15:18:09+00:00  46.151769  10.960604  1359.516\n",
       "3 2019-05-24 15:18:29+00:00  46.151881  10.960633  1375.008\n",
       "4 2019-05-24 15:18:49+00:00  46.151985  10.960997  1375.027"
      ]
     },
     "execution_count": 9,
     "metadata": {},
     "output_type": "execute_result"
    }
   ],
   "source": [
    "route_df = pd.DataFrame(route_info)\n",
    "route_df.head()"
   ]
  },
  {
   "attachments": {},
   "cell_type": "markdown",
   "metadata": {},
   "source": [
    "##### 3- Calculate altitude difference\n"
   ]
  },
  {
   "cell_type": "code",
   "execution_count": 10,
   "metadata": {},
   "outputs": [
    {
     "data": {
      "text/html": [
       "<div>\n",
       "<style scoped>\n",
       "    .dataframe tbody tr th:only-of-type {\n",
       "        vertical-align: middle;\n",
       "    }\n",
       "\n",
       "    .dataframe tbody tr th {\n",
       "        vertical-align: top;\n",
       "    }\n",
       "\n",
       "    .dataframe thead th {\n",
       "        text-align: right;\n",
       "    }\n",
       "</style>\n",
       "<table border=\"1\" class=\"dataframe\">\n",
       "  <thead>\n",
       "    <tr style=\"text-align: right;\">\n",
       "      <th></th>\n",
       "      <th>time</th>\n",
       "      <th>latitude</th>\n",
       "      <th>longitude</th>\n",
       "      <th>altitude</th>\n",
       "      <th>altitude_diff</th>\n",
       "    </tr>\n",
       "  </thead>\n",
       "  <tbody>\n",
       "    <tr>\n",
       "      <th>0</th>\n",
       "      <td>2019-05-24 15:17:29+00:00</td>\n",
       "      <td>46.144479</td>\n",
       "      <td>10.965290</td>\n",
       "      <td>891.346</td>\n",
       "      <td>NaN</td>\n",
       "    </tr>\n",
       "    <tr>\n",
       "      <th>1</th>\n",
       "      <td>2019-05-24 15:17:49+00:00</td>\n",
       "      <td>46.151617</td>\n",
       "      <td>10.960616</td>\n",
       "      <td>1354.788</td>\n",
       "      <td>463.442</td>\n",
       "    </tr>\n",
       "    <tr>\n",
       "      <th>2</th>\n",
       "      <td>2019-05-24 15:18:09+00:00</td>\n",
       "      <td>46.151769</td>\n",
       "      <td>10.960604</td>\n",
       "      <td>1359.516</td>\n",
       "      <td>4.728</td>\n",
       "    </tr>\n",
       "    <tr>\n",
       "      <th>3</th>\n",
       "      <td>2019-05-24 15:18:29+00:00</td>\n",
       "      <td>46.151881</td>\n",
       "      <td>10.960633</td>\n",
       "      <td>1375.008</td>\n",
       "      <td>15.492</td>\n",
       "    </tr>\n",
       "    <tr>\n",
       "      <th>4</th>\n",
       "      <td>2019-05-24 15:18:49+00:00</td>\n",
       "      <td>46.151985</td>\n",
       "      <td>10.960997</td>\n",
       "      <td>1375.027</td>\n",
       "      <td>0.019</td>\n",
       "    </tr>\n",
       "  </tbody>\n",
       "</table>\n",
       "</div>"
      ],
      "text/plain": [
       "                       time   latitude  longitude  altitude  altitude_diff\n",
       "0 2019-05-24 15:17:29+00:00  46.144479  10.965290   891.346            NaN\n",
       "1 2019-05-24 15:17:49+00:00  46.151617  10.960616  1354.788        463.442\n",
       "2 2019-05-24 15:18:09+00:00  46.151769  10.960604  1359.516          4.728\n",
       "3 2019-05-24 15:18:29+00:00  46.151881  10.960633  1375.008         15.492\n",
       "4 2019-05-24 15:18:49+00:00  46.151985  10.960997  1375.027          0.019"
      ]
     },
     "execution_count": 10,
     "metadata": {},
     "output_type": "execute_result"
    }
   ],
   "source": [
    "route_df['altitude_diff'] = route_df['altitude'].diff()\n",
    "\n",
    "route_df.head()"
   ]
  },
  {
   "cell_type": "code",
   "execution_count": 11,
   "metadata": {},
   "outputs": [],
   "source": [
    "def haversine_distance(lat1, lon1, lat2, lon2) -> float:\n",
    "    distance = hs.haversine(\n",
    "        point1=(lat1, lon1),\n",
    "        point2=(lat2, lon2),\n",
    "        unit=hs.Unit.METERS\n",
    "    )\n",
    "    return np.round(distance, 2)"
   ]
  },
  {
   "attachments": {},
   "cell_type": "markdown",
   "metadata": {},
   "source": [
    "Calculate the distances between all data points\n"
   ]
  },
  {
   "cell_type": "code",
   "execution_count": 12,
   "metadata": {},
   "outputs": [
    {
     "data": {
      "text/html": [
       "<div>\n",
       "<style scoped>\n",
       "    .dataframe tbody tr th:only-of-type {\n",
       "        vertical-align: middle;\n",
       "    }\n",
       "\n",
       "    .dataframe tbody tr th {\n",
       "        vertical-align: top;\n",
       "    }\n",
       "\n",
       "    .dataframe thead th {\n",
       "        text-align: right;\n",
       "    }\n",
       "</style>\n",
       "<table border=\"1\" class=\"dataframe\">\n",
       "  <thead>\n",
       "    <tr style=\"text-align: right;\">\n",
       "      <th></th>\n",
       "      <th>time</th>\n",
       "      <th>latitude</th>\n",
       "      <th>longitude</th>\n",
       "      <th>altitude</th>\n",
       "      <th>altitude_diff</th>\n",
       "      <th>distance</th>\n",
       "      <th>speed</th>\n",
       "    </tr>\n",
       "  </thead>\n",
       "  <tbody>\n",
       "    <tr>\n",
       "      <th>0</th>\n",
       "      <td>2019-05-24 15:17:29+00:00</td>\n",
       "      <td>46.144479</td>\n",
       "      <td>10.965290</td>\n",
       "      <td>891.346</td>\n",
       "      <td>NaN</td>\n",
       "      <td>NaN</td>\n",
       "      <td>NaN</td>\n",
       "    </tr>\n",
       "    <tr>\n",
       "      <th>1</th>\n",
       "      <td>2019-05-24 15:17:49+00:00</td>\n",
       "      <td>46.151617</td>\n",
       "      <td>10.960616</td>\n",
       "      <td>1354.788</td>\n",
       "      <td>463.442</td>\n",
       "      <td>871.56</td>\n",
       "      <td>43.5780</td>\n",
       "    </tr>\n",
       "    <tr>\n",
       "      <th>2</th>\n",
       "      <td>2019-05-24 15:18:09+00:00</td>\n",
       "      <td>46.151769</td>\n",
       "      <td>10.960604</td>\n",
       "      <td>1359.516</td>\n",
       "      <td>4.728</td>\n",
       "      <td>16.93</td>\n",
       "      <td>0.8465</td>\n",
       "    </tr>\n",
       "    <tr>\n",
       "      <th>3</th>\n",
       "      <td>2019-05-24 15:18:29+00:00</td>\n",
       "      <td>46.151881</td>\n",
       "      <td>10.960633</td>\n",
       "      <td>1375.008</td>\n",
       "      <td>15.492</td>\n",
       "      <td>12.65</td>\n",
       "      <td>0.6325</td>\n",
       "    </tr>\n",
       "    <tr>\n",
       "      <th>4</th>\n",
       "      <td>2019-05-24 15:18:49+00:00</td>\n",
       "      <td>46.151985</td>\n",
       "      <td>10.960997</td>\n",
       "      <td>1375.027</td>\n",
       "      <td>0.019</td>\n",
       "      <td>30.33</td>\n",
       "      <td>1.5165</td>\n",
       "    </tr>\n",
       "    <tr>\n",
       "      <th>...</th>\n",
       "      <td>...</td>\n",
       "      <td>...</td>\n",
       "      <td>...</td>\n",
       "      <td>...</td>\n",
       "      <td>...</td>\n",
       "      <td>...</td>\n",
       "      <td>...</td>\n",
       "    </tr>\n",
       "    <tr>\n",
       "      <th>1760</th>\n",
       "      <td>2019-05-25 01:04:09+00:00</td>\n",
       "      <td>46.143240</td>\n",
       "      <td>10.964280</td>\n",
       "      <td>882.015</td>\n",
       "      <td>1.995</td>\n",
       "      <td>21.37</td>\n",
       "      <td>1.0685</td>\n",
       "    </tr>\n",
       "    <tr>\n",
       "      <th>1761</th>\n",
       "      <td>2019-05-25 01:04:29+00:00</td>\n",
       "      <td>46.143476</td>\n",
       "      <td>10.964383</td>\n",
       "      <td>888.096</td>\n",
       "      <td>6.081</td>\n",
       "      <td>27.42</td>\n",
       "      <td>1.3710</td>\n",
       "    </tr>\n",
       "    <tr>\n",
       "      <th>1762</th>\n",
       "      <td>2019-05-25 01:04:49+00:00</td>\n",
       "      <td>46.143630</td>\n",
       "      <td>10.964450</td>\n",
       "      <td>892.055</td>\n",
       "      <td>3.959</td>\n",
       "      <td>17.89</td>\n",
       "      <td>0.8945</td>\n",
       "    </tr>\n",
       "    <tr>\n",
       "      <th>1763</th>\n",
       "      <td>2019-05-25 01:05:09+00:00</td>\n",
       "      <td>46.143950</td>\n",
       "      <td>10.964650</td>\n",
       "      <td>898.096</td>\n",
       "      <td>6.041</td>\n",
       "      <td>38.78</td>\n",
       "      <td>1.9390</td>\n",
       "    </tr>\n",
       "    <tr>\n",
       "      <th>1764</th>\n",
       "      <td>2019-05-25 01:05:29+00:00</td>\n",
       "      <td>46.144062</td>\n",
       "      <td>10.964783</td>\n",
       "      <td>899.067</td>\n",
       "      <td>0.971</td>\n",
       "      <td>16.13</td>\n",
       "      <td>0.8065</td>\n",
       "    </tr>\n",
       "  </tbody>\n",
       "</table>\n",
       "<p>1765 rows × 7 columns</p>\n",
       "</div>"
      ],
      "text/plain": [
       "                          time   latitude  longitude  altitude  altitude_diff  \\\n",
       "0    2019-05-24 15:17:29+00:00  46.144479  10.965290   891.346            NaN   \n",
       "1    2019-05-24 15:17:49+00:00  46.151617  10.960616  1354.788        463.442   \n",
       "2    2019-05-24 15:18:09+00:00  46.151769  10.960604  1359.516          4.728   \n",
       "3    2019-05-24 15:18:29+00:00  46.151881  10.960633  1375.008         15.492   \n",
       "4    2019-05-24 15:18:49+00:00  46.151985  10.960997  1375.027          0.019   \n",
       "...                        ...        ...        ...       ...            ...   \n",
       "1760 2019-05-25 01:04:09+00:00  46.143240  10.964280   882.015          1.995   \n",
       "1761 2019-05-25 01:04:29+00:00  46.143476  10.964383   888.096          6.081   \n",
       "1762 2019-05-25 01:04:49+00:00  46.143630  10.964450   892.055          3.959   \n",
       "1763 2019-05-25 01:05:09+00:00  46.143950  10.964650   898.096          6.041   \n",
       "1764 2019-05-25 01:05:29+00:00  46.144062  10.964783   899.067          0.971   \n",
       "\n",
       "      distance    speed  \n",
       "0          NaN      NaN  \n",
       "1       871.56  43.5780  \n",
       "2        16.93   0.8465  \n",
       "3        12.65   0.6325  \n",
       "4        30.33   1.5165  \n",
       "...        ...      ...  \n",
       "1760     21.37   1.0685  \n",
       "1761     27.42   1.3710  \n",
       "1762     17.89   0.8945  \n",
       "1763     38.78   1.9390  \n",
       "1764     16.13   0.8065  \n",
       "\n",
       "[1765 rows x 7 columns]"
      ]
     },
     "execution_count": 12,
     "metadata": {},
     "output_type": "execute_result"
    }
   ],
   "source": [
    "haversine_distance(\n",
    "    lat1=route_df.iloc[0]['latitude'],\n",
    "    lon1=route_df.iloc[0]['longitude'],\n",
    "    lat2=route_df.iloc[1]['latitude'],\n",
    "    lon2=route_df.iloc[1]['longitude']\n",
    ")\n",
    "\n",
    "distances = [np.nan]\n",
    "speed = [np.nan]\n",
    "\n",
    "for i in range(1, len(route_df)):\n",
    "    distances.append(haversine_distance(\n",
    "        lat1=route_df.iloc[i - 1]['latitude'],\n",
    "        lon1=route_df.iloc[i - 1]['longitude'],\n",
    "        lat2=route_df.iloc[i]['latitude'],\n",
    "        lon2=route_df.iloc[i]['longitude']\n",
    "    ))\n",
    "\n",
    "    # #* speed\n",
    "    time_diff = (route_df.iloc[i].time - route_df.iloc[i - 1].time).seconds\n",
    "    speed.append(distances[i]/time_diff)\n",
    "\n",
    "\n",
    "route_df['distance'] = distances\n",
    "route_df['speed'] = speed\n",
    "route_df\n"
   ]
  },
  {
   "cell_type": "code",
   "execution_count": 13,
   "metadata": {},
   "outputs": [
    {
     "name": "stdout",
     "output_type": "stream",
     "text": [
      "Max altitude: 2117.105 m\n",
      "Total distance: 59.67436 km\n"
     ]
    }
   ],
   "source": [
    "print('Max altitude:', (route_df['altitude']).max(), 'm')\n",
    "# print('v', route_df[route_df['altitude_diff'] <= 0]['altitude_diff'].sum())\n",
    "\n",
    "print('Total distance:', route_df['distance'].sum() / 1000, 'km')\n"
   ]
  },
  {
   "attachments": {
    "image.png": {
     "image/png": "[encoded data removed]"
    }
   },
   "cell_type": "markdown",
   "metadata": {},
   "source": [
    "![image.png](attachment:image.png)\n",
    "\n",
    "proof for <ins>alpes-8.gpx</ins>\n"
   ]
  },
  {
   "attachments": {},
   "cell_type": "markdown",
   "metadata": {},
   "source": [
    "##### Visualize the Elevation profile\n"
   ]
  },
  {
   "cell_type": "code",
   "execution_count": 14,
   "metadata": {},
   "outputs": [
    {
     "data": {
      "text/html": [
       "<div>\n",
       "<style scoped>\n",
       "    .dataframe tbody tr th:only-of-type {\n",
       "        vertical-align: middle;\n",
       "    }\n",
       "\n",
       "    .dataframe tbody tr th {\n",
       "        vertical-align: top;\n",
       "    }\n",
       "\n",
       "    .dataframe thead th {\n",
       "        text-align: right;\n",
       "    }\n",
       "</style>\n",
       "<table border=\"1\" class=\"dataframe\">\n",
       "  <thead>\n",
       "    <tr style=\"text-align: right;\">\n",
       "      <th></th>\n",
       "      <th>time</th>\n",
       "      <th>latitude</th>\n",
       "      <th>longitude</th>\n",
       "      <th>altitude</th>\n",
       "      <th>altitude_diff</th>\n",
       "      <th>distance</th>\n",
       "      <th>speed</th>\n",
       "      <th>relative_elevation</th>\n",
       "      <th>cum_distance</th>\n",
       "    </tr>\n",
       "  </thead>\n",
       "  <tbody>\n",
       "    <tr>\n",
       "      <th>0</th>\n",
       "      <td>2019-05-24 15:17:29+00:00</td>\n",
       "      <td>46.144479</td>\n",
       "      <td>10.965290</td>\n",
       "      <td>891.346</td>\n",
       "      <td>0.000</td>\n",
       "      <td>0.00</td>\n",
       "      <td>0.0000</td>\n",
       "      <td>0.000</td>\n",
       "      <td>0.00000</td>\n",
       "    </tr>\n",
       "    <tr>\n",
       "      <th>1</th>\n",
       "      <td>2019-05-24 15:17:49+00:00</td>\n",
       "      <td>46.151617</td>\n",
       "      <td>10.960616</td>\n",
       "      <td>1354.788</td>\n",
       "      <td>463.442</td>\n",
       "      <td>871.56</td>\n",
       "      <td>43.5780</td>\n",
       "      <td>463.442</td>\n",
       "      <td>0.87156</td>\n",
       "    </tr>\n",
       "    <tr>\n",
       "      <th>2</th>\n",
       "      <td>2019-05-24 15:18:09+00:00</td>\n",
       "      <td>46.151769</td>\n",
       "      <td>10.960604</td>\n",
       "      <td>1359.516</td>\n",
       "      <td>4.728</td>\n",
       "      <td>16.93</td>\n",
       "      <td>0.8465</td>\n",
       "      <td>468.170</td>\n",
       "      <td>0.88849</td>\n",
       "    </tr>\n",
       "    <tr>\n",
       "      <th>3</th>\n",
       "      <td>2019-05-24 15:18:29+00:00</td>\n",
       "      <td>46.151881</td>\n",
       "      <td>10.960633</td>\n",
       "      <td>1375.008</td>\n",
       "      <td>15.492</td>\n",
       "      <td>12.65</td>\n",
       "      <td>0.6325</td>\n",
       "      <td>483.662</td>\n",
       "      <td>0.90114</td>\n",
       "    </tr>\n",
       "    <tr>\n",
       "      <th>4</th>\n",
       "      <td>2019-05-24 15:18:49+00:00</td>\n",
       "      <td>46.151985</td>\n",
       "      <td>10.960997</td>\n",
       "      <td>1375.027</td>\n",
       "      <td>0.019</td>\n",
       "      <td>30.33</td>\n",
       "      <td>1.5165</td>\n",
       "      <td>483.681</td>\n",
       "      <td>0.93147</td>\n",
       "    </tr>\n",
       "    <tr>\n",
       "      <th>...</th>\n",
       "      <td>...</td>\n",
       "      <td>...</td>\n",
       "      <td>...</td>\n",
       "      <td>...</td>\n",
       "      <td>...</td>\n",
       "      <td>...</td>\n",
       "      <td>...</td>\n",
       "      <td>...</td>\n",
       "      <td>...</td>\n",
       "    </tr>\n",
       "    <tr>\n",
       "      <th>1760</th>\n",
       "      <td>2019-05-25 01:04:09+00:00</td>\n",
       "      <td>46.143240</td>\n",
       "      <td>10.964280</td>\n",
       "      <td>882.015</td>\n",
       "      <td>1.995</td>\n",
       "      <td>21.37</td>\n",
       "      <td>1.0685</td>\n",
       "      <td>-9.331</td>\n",
       "      <td>59.57414</td>\n",
       "    </tr>\n",
       "    <tr>\n",
       "      <th>1761</th>\n",
       "      <td>2019-05-25 01:04:29+00:00</td>\n",
       "      <td>46.143476</td>\n",
       "      <td>10.964383</td>\n",
       "      <td>888.096</td>\n",
       "      <td>6.081</td>\n",
       "      <td>27.42</td>\n",
       "      <td>1.3710</td>\n",
       "      <td>-3.250</td>\n",
       "      <td>59.60156</td>\n",
       "    </tr>\n",
       "    <tr>\n",
       "      <th>1762</th>\n",
       "      <td>2019-05-25 01:04:49+00:00</td>\n",
       "      <td>46.143630</td>\n",
       "      <td>10.964450</td>\n",
       "      <td>892.055</td>\n",
       "      <td>3.959</td>\n",
       "      <td>17.89</td>\n",
       "      <td>0.8945</td>\n",
       "      <td>0.709</td>\n",
       "      <td>59.61945</td>\n",
       "    </tr>\n",
       "    <tr>\n",
       "      <th>1763</th>\n",
       "      <td>2019-05-25 01:05:09+00:00</td>\n",
       "      <td>46.143950</td>\n",
       "      <td>10.964650</td>\n",
       "      <td>898.096</td>\n",
       "      <td>6.041</td>\n",
       "      <td>38.78</td>\n",
       "      <td>1.9390</td>\n",
       "      <td>6.750</td>\n",
       "      <td>59.65823</td>\n",
       "    </tr>\n",
       "    <tr>\n",
       "      <th>1764</th>\n",
       "      <td>2019-05-25 01:05:29+00:00</td>\n",
       "      <td>46.144062</td>\n",
       "      <td>10.964783</td>\n",
       "      <td>899.067</td>\n",
       "      <td>0.971</td>\n",
       "      <td>16.13</td>\n",
       "      <td>0.8065</td>\n",
       "      <td>7.721</td>\n",
       "      <td>59.67436</td>\n",
       "    </tr>\n",
       "  </tbody>\n",
       "</table>\n",
       "<p>1765 rows × 9 columns</p>\n",
       "</div>"
      ],
      "text/plain": [
       "                          time   latitude  longitude  altitude  altitude_diff  \\\n",
       "0    2019-05-24 15:17:29+00:00  46.144479  10.965290   891.346          0.000   \n",
       "1    2019-05-24 15:17:49+00:00  46.151617  10.960616  1354.788        463.442   \n",
       "2    2019-05-24 15:18:09+00:00  46.151769  10.960604  1359.516          4.728   \n",
       "3    2019-05-24 15:18:29+00:00  46.151881  10.960633  1375.008         15.492   \n",
       "4    2019-05-24 15:18:49+00:00  46.151985  10.960997  1375.027          0.019   \n",
       "...                        ...        ...        ...       ...            ...   \n",
       "1760 2019-05-25 01:04:09+00:00  46.143240  10.964280   882.015          1.995   \n",
       "1761 2019-05-25 01:04:29+00:00  46.143476  10.964383   888.096          6.081   \n",
       "1762 2019-05-25 01:04:49+00:00  46.143630  10.964450   892.055          3.959   \n",
       "1763 2019-05-25 01:05:09+00:00  46.143950  10.964650   898.096          6.041   \n",
       "1764 2019-05-25 01:05:29+00:00  46.144062  10.964783   899.067          0.971   \n",
       "\n",
       "      distance    speed  relative_elevation  cum_distance  \n",
       "0         0.00   0.0000               0.000       0.00000  \n",
       "1       871.56  43.5780             463.442       0.87156  \n",
       "2        16.93   0.8465             468.170       0.88849  \n",
       "3        12.65   0.6325             483.662       0.90114  \n",
       "4        30.33   1.5165             483.681       0.93147  \n",
       "...        ...      ...                 ...           ...  \n",
       "1760     21.37   1.0685              -9.331      59.57414  \n",
       "1761     27.42   1.3710              -3.250      59.60156  \n",
       "1762     17.89   0.8945               0.709      59.61945  \n",
       "1763     38.78   1.9390               6.750      59.65823  \n",
       "1764     16.13   0.8065               7.721      59.67436  \n",
       "\n",
       "[1765 rows x 9 columns]"
      ]
     },
     "execution_count": 14,
     "metadata": {},
     "output_type": "execute_result"
    }
   ],
   "source": [
    "route_df['relative_elevation'] = route_df['altitude_diff'].cumsum()\n",
    "route_df['cum_distance'] = route_df['distance'].cumsum()/1e3\n",
    "\n",
    "route_df = route_df.fillna(0)  # replace NANs with zero\n",
    "route_df\n"
   ]
  },
  {
   "cell_type": "code",
   "execution_count": 15,
   "metadata": {},
   "outputs": [],
   "source": [
    "def plot_route(df):\n",
    "    plt.figure(figsize=(19, 3))\n",
    "    plt.plot(df['cum_distance'] / 1000,\n",
    "             df['altitude'], color='#101010', lw=3)\n",
    "    plt.title('Route altitude profile', size=20)\n",
    "    plt.xlabel('Distance in km', size=14)\n",
    "    plt.ylabel('Altitude in meters', size=14)\n",
    "    # plt.savefig('fig.jpg', dpi=300, bbox_inches='tight') # save the figure\n"
   ]
  },
  {
   "cell_type": "code",
   "execution_count": 16,
   "metadata": {},
   "outputs": [
    {
     "data": {
      "image/png": "[encoded data removed]",
      "text/plain": [
       "<Figure size 1900x300 with 1 Axes>"
      ]
     },
     "metadata": {},
     "output_type": "display_data"
    }
   ],
   "source": [
    "plot_route(route_df)"
   ]
  },
  {
   "cell_type": "code",
   "execution_count": 17,
   "metadata": {},
   "outputs": [
    {
     "name": "stdout",
     "output_type": "stream",
     "text": [
      "------------------speed---------------\n",
      "count    1765.000000\n",
      "mean        1.690492\n",
      "std         4.747200\n",
      "min         0.000000\n",
      "25%         0.589000\n",
      "50%         1.110500\n",
      "75%         1.903500\n",
      "max       117.791500\n",
      "Name: speed, dtype: float64\n",
      "------------------distance---------------\n",
      "count    1765.000000\n",
      "mean       33.809836\n",
      "std        94.943994\n",
      "min         0.000000\n",
      "25%        11.780000\n",
      "50%        22.210000\n",
      "75%        38.070000\n",
      "max      2355.830000\n",
      "Name: distance, dtype: float64\n"
     ]
    }
   ],
   "source": [
    "print('------------------speed---------------')\n",
    "print(route_df['speed'].describe())\n",
    "print('------------------distance---------------')\n",
    "print(route_df['distance'].describe())"
   ]
  },
  {
   "cell_type": "code",
   "execution_count": 18,
   "metadata": {},
   "outputs": [
    {
     "name": "stdout",
     "output_type": "stream",
     "text": [
      "1354.788\n",
      "i 1\n",
      "1500.068\n",
      "i 10\n",
      "1781.777\n",
      "i 202\n",
      "2114.167\n",
      "i 213\n",
      "1420.043\n",
      "i 1042\n",
      "1767.046\n",
      "i 1240\n"
     ]
    },
    {
     "data": {
      "text/plain": [
       "6.0"
      ]
     },
     "execution_count": 18,
     "metadata": {},
     "output_type": "execute_result"
    }
   ],
   "source": [
    "\n",
    "number_of_lifts = 0\n",
    "route_df['lift?'] = 0  # ? set the lift? column to zero\n",
    "for i in range(len(route_df)):\n",
    "    if route_df['altitude_diff'][i] > 100:\n",
    "        # route_df['lift?'][i-1:i+1] = 1\n",
    "        route_df.loc[i-1:i, 'lift?'] = 1\n",
    "\n",
    "        number_of_lifts += 1\n",
    "        print(route_df['altitude'][i])\n",
    "        print('i', i)\n",
    "\n",
    "\n",
    "route_df['lift?'].sum()/2"
   ]
  },
  {
   "cell_type": "code",
   "execution_count": 19,
   "metadata": {},
   "outputs": [
    {
     "ename": "OSError",
     "evalue": "Cannot save file into a non-existent directory: 'data/csv/train'",
     "output_type": "error",
     "traceback": [
      "\u001b[0;31m---------------------------------------------------------------------------\u001b[0m",
      "\u001b[0;31mOSError\u001b[0m                                   Traceback (most recent call last)",
      "Cell \u001b[0;32mIn[19], line 2\u001b[0m\n\u001b[1;32m      1\u001b[0m \u001b[39m# save the new df to csv\u001b[39;00m\n\u001b[0;32m----> 2\u001b[0m route_df\u001b[39m.\u001b[39;49mto_csv(\u001b[39m'\u001b[39;49m\u001b[39m./data/csv/\u001b[39;49m\u001b[39m'\u001b[39;49m \u001b[39m+\u001b[39;49m file_path[\u001b[39m9\u001b[39;49m:\u001b[39m-\u001b[39;49m\u001b[39m4\u001b[39;49m] \u001b[39m+\u001b[39;49m \u001b[39m'\u001b[39;49m\u001b[39m.csv\u001b[39;49m\u001b[39m'\u001b[39;49m, index\u001b[39m=\u001b[39;49m\u001b[39mTrue\u001b[39;49;00m)\n",
      "File \u001b[0;32m~/anaconda3/lib/python3.11/site-packages/pandas/core/generic.py:3772\u001b[0m, in \u001b[0;36mNDFrame.to_csv\u001b[0;34m(self, path_or_buf, sep, na_rep, float_format, columns, header, index, index_label, mode, encoding, compression, quoting, quotechar, lineterminator, chunksize, date_format, doublequote, escapechar, decimal, errors, storage_options)\u001b[0m\n\u001b[1;32m   3761\u001b[0m df \u001b[39m=\u001b[39m \u001b[39mself\u001b[39m \u001b[39mif\u001b[39;00m \u001b[39misinstance\u001b[39m(\u001b[39mself\u001b[39m, ABCDataFrame) \u001b[39melse\u001b[39;00m \u001b[39mself\u001b[39m\u001b[39m.\u001b[39mto_frame()\n\u001b[1;32m   3763\u001b[0m formatter \u001b[39m=\u001b[39m DataFrameFormatter(\n\u001b[1;32m   3764\u001b[0m     frame\u001b[39m=\u001b[39mdf,\n\u001b[1;32m   3765\u001b[0m     header\u001b[39m=\u001b[39mheader,\n\u001b[0;32m   (...)\u001b[0m\n\u001b[1;32m   3769\u001b[0m     decimal\u001b[39m=\u001b[39mdecimal,\n\u001b[1;32m   3770\u001b[0m )\n\u001b[0;32m-> 3772\u001b[0m \u001b[39mreturn\u001b[39;00m DataFrameRenderer(formatter)\u001b[39m.\u001b[39;49mto_csv(\n\u001b[1;32m   3773\u001b[0m     path_or_buf,\n\u001b[1;32m   3774\u001b[0m     lineterminator\u001b[39m=\u001b[39;49mlineterminator,\n\u001b[1;32m   3775\u001b[0m     sep\u001b[39m=\u001b[39;49msep,\n\u001b[1;32m   3776\u001b[0m     encoding\u001b[39m=\u001b[39;49mencoding,\n\u001b[1;32m   3777\u001b[0m     errors\u001b[39m=\u001b[39;49merrors,\n\u001b[1;32m   3778\u001b[0m     compression\u001b[39m=\u001b[39;49mcompression,\n\u001b[1;32m   3779\u001b[0m     quoting\u001b[39m=\u001b[39;49mquoting,\n\u001b[1;32m   3780\u001b[0m     columns\u001b[39m=\u001b[39;49mcolumns,\n\u001b[1;32m   3781\u001b[0m     index_label\u001b[39m=\u001b[39;49mindex_label,\n\u001b[1;32m   3782\u001b[0m     mode\u001b[39m=\u001b[39;49mmode,\n\u001b[1;32m   3783\u001b[0m     chunksize\u001b[39m=\u001b[39;49mchunksize,\n\u001b[1;32m   3784\u001b[0m     quotechar\u001b[39m=\u001b[39;49mquotechar,\n\u001b[1;32m   3785\u001b[0m     date_format\u001b[39m=\u001b[39;49mdate_format,\n\u001b[1;32m   3786\u001b[0m     doublequote\u001b[39m=\u001b[39;49mdoublequote,\n\u001b[1;32m   3787\u001b[0m     escapechar\u001b[39m=\u001b[39;49mescapechar,\n\u001b[1;32m   3788\u001b[0m     storage_options\u001b[39m=\u001b[39;49mstorage_options,\n\u001b[1;32m   3789\u001b[0m )\n",
      "File \u001b[0;32m~/anaconda3/lib/python3.11/site-packages/pandas/io/formats/format.py:1186\u001b[0m, in \u001b[0;36mDataFrameRenderer.to_csv\u001b[0;34m(self, path_or_buf, encoding, sep, columns, index_label, mode, compression, quoting, quotechar, lineterminator, chunksize, date_format, doublequote, escapechar, errors, storage_options)\u001b[0m\n\u001b[1;32m   1165\u001b[0m     created_buffer \u001b[39m=\u001b[39m \u001b[39mFalse\u001b[39;00m\n\u001b[1;32m   1167\u001b[0m csv_formatter \u001b[39m=\u001b[39m CSVFormatter(\n\u001b[1;32m   1168\u001b[0m     path_or_buf\u001b[39m=\u001b[39mpath_or_buf,\n\u001b[1;32m   1169\u001b[0m     lineterminator\u001b[39m=\u001b[39mlineterminator,\n\u001b[0;32m   (...)\u001b[0m\n\u001b[1;32m   1184\u001b[0m     formatter\u001b[39m=\u001b[39m\u001b[39mself\u001b[39m\u001b[39m.\u001b[39mfmt,\n\u001b[1;32m   1185\u001b[0m )\n\u001b[0;32m-> 1186\u001b[0m csv_formatter\u001b[39m.\u001b[39;49msave()\n\u001b[1;32m   1188\u001b[0m \u001b[39mif\u001b[39;00m created_buffer:\n\u001b[1;32m   1189\u001b[0m     \u001b[39massert\u001b[39;00m \u001b[39misinstance\u001b[39m(path_or_buf, StringIO)\n",
      "File \u001b[0;32m~/anaconda3/lib/python3.11/site-packages/pandas/io/formats/csvs.py:240\u001b[0m, in \u001b[0;36mCSVFormatter.save\u001b[0;34m(self)\u001b[0m\n\u001b[1;32m    236\u001b[0m \u001b[39m\u001b[39m\u001b[39m\"\"\"\u001b[39;00m\n\u001b[1;32m    237\u001b[0m \u001b[39mCreate the writer & save.\u001b[39;00m\n\u001b[1;32m    238\u001b[0m \u001b[39m\"\"\"\u001b[39;00m\n\u001b[1;32m    239\u001b[0m \u001b[39m# apply compression and byte/text conversion\u001b[39;00m\n\u001b[0;32m--> 240\u001b[0m \u001b[39mwith\u001b[39;00m get_handle(\n\u001b[1;32m    241\u001b[0m     \u001b[39mself\u001b[39;49m\u001b[39m.\u001b[39;49mfilepath_or_buffer,\n\u001b[1;32m    242\u001b[0m     \u001b[39mself\u001b[39;49m\u001b[39m.\u001b[39;49mmode,\n\u001b[1;32m    243\u001b[0m     encoding\u001b[39m=\u001b[39;49m\u001b[39mself\u001b[39;49m\u001b[39m.\u001b[39;49mencoding,\n\u001b[1;32m    244\u001b[0m     errors\u001b[39m=\u001b[39;49m\u001b[39mself\u001b[39;49m\u001b[39m.\u001b[39;49merrors,\n\u001b[1;32m    245\u001b[0m     compression\u001b[39m=\u001b[39;49m\u001b[39mself\u001b[39;49m\u001b[39m.\u001b[39;49mcompression,\n\u001b[1;32m    246\u001b[0m     storage_options\u001b[39m=\u001b[39;49m\u001b[39mself\u001b[39;49m\u001b[39m.\u001b[39;49mstorage_options,\n\u001b[1;32m    247\u001b[0m ) \u001b[39mas\u001b[39;00m handles:\n\u001b[1;32m    248\u001b[0m     \u001b[39m# Note: self.encoding is irrelevant here\u001b[39;00m\n\u001b[1;32m    249\u001b[0m     \u001b[39mself\u001b[39m\u001b[39m.\u001b[39mwriter \u001b[39m=\u001b[39m csvlib\u001b[39m.\u001b[39mwriter(\n\u001b[1;32m    250\u001b[0m         handles\u001b[39m.\u001b[39mhandle,\n\u001b[1;32m    251\u001b[0m         lineterminator\u001b[39m=\u001b[39m\u001b[39mself\u001b[39m\u001b[39m.\u001b[39mlineterminator,\n\u001b[0;32m   (...)\u001b[0m\n\u001b[1;32m    256\u001b[0m         quotechar\u001b[39m=\u001b[39m\u001b[39mself\u001b[39m\u001b[39m.\u001b[39mquotechar,\n\u001b[1;32m    257\u001b[0m     )\n\u001b[1;32m    259\u001b[0m     \u001b[39mself\u001b[39m\u001b[39m.\u001b[39m_save()\n",
      "File \u001b[0;32m~/anaconda3/lib/python3.11/site-packages/pandas/io/common.py:737\u001b[0m, in \u001b[0;36mget_handle\u001b[0;34m(path_or_buf, mode, encoding, compression, memory_map, is_text, errors, storage_options)\u001b[0m\n\u001b[1;32m    735\u001b[0m \u001b[39m# Only for write methods\u001b[39;00m\n\u001b[1;32m    736\u001b[0m \u001b[39mif\u001b[39;00m \u001b[39m\"\u001b[39m\u001b[39mr\u001b[39m\u001b[39m\"\u001b[39m \u001b[39mnot\u001b[39;00m \u001b[39min\u001b[39;00m mode \u001b[39mand\u001b[39;00m is_path:\n\u001b[0;32m--> 737\u001b[0m     check_parent_directory(\u001b[39mstr\u001b[39;49m(handle))\n\u001b[1;32m    739\u001b[0m \u001b[39mif\u001b[39;00m compression:\n\u001b[1;32m    740\u001b[0m     \u001b[39mif\u001b[39;00m compression \u001b[39m!=\u001b[39m \u001b[39m\"\u001b[39m\u001b[39mzstd\u001b[39m\u001b[39m\"\u001b[39m:\n\u001b[1;32m    741\u001b[0m         \u001b[39m# compression libraries do not like an explicit text-mode\u001b[39;00m\n",
      "File \u001b[0;32m~/anaconda3/lib/python3.11/site-packages/pandas/io/common.py:600\u001b[0m, in \u001b[0;36mcheck_parent_directory\u001b[0;34m(path)\u001b[0m\n\u001b[1;32m    598\u001b[0m parent \u001b[39m=\u001b[39m Path(path)\u001b[39m.\u001b[39mparent\n\u001b[1;32m    599\u001b[0m \u001b[39mif\u001b[39;00m \u001b[39mnot\u001b[39;00m parent\u001b[39m.\u001b[39mis_dir():\n\u001b[0;32m--> 600\u001b[0m     \u001b[39mraise\u001b[39;00m \u001b[39mOSError\u001b[39;00m(\u001b[39mrf\u001b[39m\u001b[39m\"\u001b[39m\u001b[39mCannot save file into a non-existent directory: \u001b[39m\u001b[39m'\u001b[39m\u001b[39m{\u001b[39;00mparent\u001b[39m}\u001b[39;00m\u001b[39m'\u001b[39m\u001b[39m\"\u001b[39m)\n",
      "\u001b[0;31mOSError\u001b[0m: Cannot save file into a non-existent directory: 'data/csv/train'"
     ]
    }
   ],
   "source": [
    "# save the new df to csv\n",
    "route_df.to_csv('./data/csv/' + file_path[9:-4] + '.csv', index=True)\n"
   ]
  },
  {
   "cell_type": "code",
   "execution_count": null,
   "metadata": {},
   "outputs": [
    {
     "data": {
      "text/plain": [
       "588.0"
      ]
     },
     "execution_count": 85,
     "metadata": {},
     "output_type": "execute_result"
    }
   ],
   "source": [
    "# for i in range(1,len(route_df)):\n",
    "#     time_diff = (route_df.iloc[i].time - route_df.iloc[i - 1].time).seconds/60\n",
    "# print(time_diff)\n",
    "\n",
    "total_time_in_min = (\n",
    "    route_df.iloc[len(route_df)-1].time - route_df.iloc[0].time).seconds/60\n",
    "total_time_in_min\n"
   ]
  },
  {
   "cell_type": "code",
   "execution_count": null,
   "metadata": {},
   "outputs": [
    {
     "ename": "JSONDecodeError",
     "evalue": "Extra data: line 26 column 1 (char 676)",
     "output_type": "error",
     "traceback": [
      "\u001b[0;31m---------------------------------------------------------------------------\u001b[0m",
      "\u001b[0;31mJSONDecodeError\u001b[0m                           Traceback (most recent call last)",
      "Cell \u001b[0;32mIn[2], line 5\u001b[0m\n\u001b[1;32m      3\u001b[0m \u001b[39m# Load the JSON file\u001b[39;00m\n\u001b[1;32m      4\u001b[0m \u001b[39mwith\u001b[39;00m \u001b[39mopen\u001b[39m(\u001b[39m'\u001b[39m\u001b[39m./data/paganellaTransports.json\u001b[39m\u001b[39m'\u001b[39m) \u001b[39mas\u001b[39;00m f:\n\u001b[0;32m----> 5\u001b[0m     data \u001b[39m=\u001b[39m json\u001b[39m.\u001b[39mload(f)\n\u001b[1;32m      7\u001b[0m \u001b[39mfor\u001b[39;00m record \u001b[39min\u001b[39;00m data:\n\u001b[1;32m      8\u001b[0m     coordinates \u001b[39m=\u001b[39m record[\u001b[39m'\u001b[39m\u001b[39mgeoLocation\u001b[39m\u001b[39m'\u001b[39m][\u001b[39m'\u001b[39m\u001b[39mcoordinatesLineString\u001b[39m\u001b[39m'\u001b[39m]\n",
      "File \u001b[0;32m~/anaconda3/lib/python3.11/json/__init__.py:293\u001b[0m, in \u001b[0;36mload\u001b[0;34m(fp, cls, object_hook, parse_float, parse_int, parse_constant, object_pairs_hook, **kw)\u001b[0m\n\u001b[1;32m    274\u001b[0m \u001b[39mdef\u001b[39;00m \u001b[39mload\u001b[39m(fp, \u001b[39m*\u001b[39m, \u001b[39mcls\u001b[39m\u001b[39m=\u001b[39m\u001b[39mNone\u001b[39;00m, object_hook\u001b[39m=\u001b[39m\u001b[39mNone\u001b[39;00m, parse_float\u001b[39m=\u001b[39m\u001b[39mNone\u001b[39;00m,\n\u001b[1;32m    275\u001b[0m         parse_int\u001b[39m=\u001b[39m\u001b[39mNone\u001b[39;00m, parse_constant\u001b[39m=\u001b[39m\u001b[39mNone\u001b[39;00m, object_pairs_hook\u001b[39m=\u001b[39m\u001b[39mNone\u001b[39;00m, \u001b[39m*\u001b[39m\u001b[39m*\u001b[39mkw):\n\u001b[1;32m    276\u001b[0m \u001b[39m    \u001b[39m\u001b[39m\"\"\"Deserialize ``fp`` (a ``.read()``-supporting file-like object containing\u001b[39;00m\n\u001b[1;32m    277\u001b[0m \u001b[39m    a JSON document) to a Python object.\u001b[39;00m\n\u001b[1;32m    278\u001b[0m \n\u001b[0;32m   (...)\u001b[0m\n\u001b[1;32m    291\u001b[0m \u001b[39m    kwarg; otherwise ``JSONDecoder`` is used.\u001b[39;00m\n\u001b[1;32m    292\u001b[0m \u001b[39m    \"\"\"\u001b[39;00m\n\u001b[0;32m--> 293\u001b[0m     \u001b[39mreturn\u001b[39;00m loads(fp\u001b[39m.\u001b[39mread(),\n\u001b[1;32m    294\u001b[0m         \u001b[39mcls\u001b[39m\u001b[39m=\u001b[39m\u001b[39mcls\u001b[39m, object_hook\u001b[39m=\u001b[39mobject_hook,\n\u001b[1;32m    295\u001b[0m         parse_float\u001b[39m=\u001b[39mparse_float, parse_int\u001b[39m=\u001b[39mparse_int,\n\u001b[1;32m    296\u001b[0m         parse_constant\u001b[39m=\u001b[39mparse_constant, object_pairs_hook\u001b[39m=\u001b[39mobject_pairs_hook, \u001b[39m*\u001b[39m\u001b[39m*\u001b[39mkw)\n",
      "File \u001b[0;32m~/anaconda3/lib/python3.11/json/__init__.py:346\u001b[0m, in \u001b[0;36mloads\u001b[0;34m(s, cls, object_hook, parse_float, parse_int, parse_constant, object_pairs_hook, **kw)\u001b[0m\n\u001b[1;32m    341\u001b[0m     s \u001b[39m=\u001b[39m s\u001b[39m.\u001b[39mdecode(detect_encoding(s), \u001b[39m'\u001b[39m\u001b[39msurrogatepass\u001b[39m\u001b[39m'\u001b[39m)\n\u001b[1;32m    343\u001b[0m \u001b[39mif\u001b[39;00m (\u001b[39mcls\u001b[39m \u001b[39mis\u001b[39;00m \u001b[39mNone\u001b[39;00m \u001b[39mand\u001b[39;00m object_hook \u001b[39mis\u001b[39;00m \u001b[39mNone\u001b[39;00m \u001b[39mand\u001b[39;00m\n\u001b[1;32m    344\u001b[0m         parse_int \u001b[39mis\u001b[39;00m \u001b[39mNone\u001b[39;00m \u001b[39mand\u001b[39;00m parse_float \u001b[39mis\u001b[39;00m \u001b[39mNone\u001b[39;00m \u001b[39mand\u001b[39;00m\n\u001b[1;32m    345\u001b[0m         parse_constant \u001b[39mis\u001b[39;00m \u001b[39mNone\u001b[39;00m \u001b[39mand\u001b[39;00m object_pairs_hook \u001b[39mis\u001b[39;00m \u001b[39mNone\u001b[39;00m \u001b[39mand\u001b[39;00m \u001b[39mnot\u001b[39;00m kw):\n\u001b[0;32m--> 346\u001b[0m     \u001b[39mreturn\u001b[39;00m _default_decoder\u001b[39m.\u001b[39mdecode(s)\n\u001b[1;32m    347\u001b[0m \u001b[39mif\u001b[39;00m \u001b[39mcls\u001b[39m \u001b[39mis\u001b[39;00m \u001b[39mNone\u001b[39;00m:\n\u001b[1;32m    348\u001b[0m     \u001b[39mcls\u001b[39m \u001b[39m=\u001b[39m JSONDecoder\n",
      "File \u001b[0;32m~/anaconda3/lib/python3.11/json/decoder.py:340\u001b[0m, in \u001b[0;36mJSONDecoder.decode\u001b[0;34m(self, s, _w)\u001b[0m\n\u001b[1;32m    338\u001b[0m end \u001b[39m=\u001b[39m _w(s, end)\u001b[39m.\u001b[39mend()\n\u001b[1;32m    339\u001b[0m \u001b[39mif\u001b[39;00m end \u001b[39m!=\u001b[39m \u001b[39mlen\u001b[39m(s):\n\u001b[0;32m--> 340\u001b[0m     \u001b[39mraise\u001b[39;00m JSONDecodeError(\u001b[39m\"\u001b[39m\u001b[39mExtra data\u001b[39m\u001b[39m\"\u001b[39m, s, end)\n\u001b[1;32m    341\u001b[0m \u001b[39mreturn\u001b[39;00m obj\n",
      "\u001b[0;31mJSONDecodeError\u001b[0m: Extra data: line 26 column 1 (char 676)"
     ]
    }
   ],
   "source": [
    "import json\n",
    "\n",
    "# Load the JSON file\n",
    "with open('./data/paganellaTransports.json') as f:\n",
    "    data = json.load(f)\n",
    "\n",
    "for record in data:\n",
    "    coordinates = record['geoLocation']['coordinatesLineString']\n",
    "    print(coordinates)\n"
   ]
  },
  {
   "cell_type": "code",
   "execution_count": null,
   "metadata": {},
   "outputs": [
    {
     "ename": "ModuleNotFoundError",
     "evalue": "No module named 'shapely'",
     "output_type": "error",
     "traceback": [
      "\u001b[0;31m---------------------------------------------------------------------------\u001b[0m",
      "\u001b[0;31mModuleNotFoundError\u001b[0m                       Traceback (most recent call last)",
      "Cell \u001b[0;32mIn[25], line 3\u001b[0m\n\u001b[1;32m      1\u001b[0m \u001b[39mimport\u001b[39;00m \u001b[39mjson\u001b[39;00m\n\u001b[1;32m      2\u001b[0m \u001b[39mimport\u001b[39;00m \u001b[39mpandas\u001b[39;00m \u001b[39mas\u001b[39;00m \u001b[39mpd\u001b[39;00m\n\u001b[0;32m----> 3\u001b[0m \u001b[39mfrom\u001b[39;00m \u001b[39mshapely\u001b[39;00m\u001b[39m.\u001b[39;00m\u001b[39mgeometry\u001b[39;00m \u001b[39mimport\u001b[39;00m Point, LineString\n\u001b[1;32m      6\u001b[0m \u001b[39mdef\u001b[39;00m \u001b[39mis_point_within_linestring\u001b[39m(df, json_data):\n\u001b[1;32m      7\u001b[0m     data \u001b[39m=\u001b[39m json\u001b[39m.\u001b[39mloads(json_data)\n",
      "\u001b[0;31mModuleNotFoundError\u001b[0m: No module named 'shapely'"
     ]
    }
   ],
   "source": [
    "import json\n",
    "import pandas as pd\n",
    "from shapely.geometry import Point, LineString\n",
    "\n",
    "\n",
    "def is_point_within_linestring(df, json_data):\n",
    "    data = json.loads(json_data)\n",
    "\n",
    "    for index, row in df.iterrows():\n",
    "        point = Point(row['lon'], row['lat'])\n",
    "\n",
    "        for feature in data:\n",
    "            line = LineString(feature['geoLocation']['coordinatesLineString'])\n",
    "\n",
    "            if line.contains(point):\n",
    "                df.at[index, 'within'] = True\n",
    "                break\n",
    "        else:\n",
    "            df.at[index, 'within'] = False\n",
    "\n",
    "    return df\n",
    "\n",
    "\n",
    "# Example dataframe\n",
    "df = pd.DataFrame({'lon': [11.0, 11.1, 11.2],\n",
    "                   'lat': [46.1, 46.2, 46.3]})\n",
    "\n",
    "df = is_point_within_linestring(df, json_data)\n",
    "print(df)"
   ]
  }
 ],
 "metadata": {
  "kernelspec": {
   "display_name": "Python 3",
   "language": "python",
   "name": "python3"
  },
  "language_info": {
   "codemirror_mode": {
    "name": "ipython",
    "version": 3
   },
   "file_extension": ".py",
   "mimetype": "text/x-python",
   "name": "python",
   "nbconvert_exporter": "python",
   "pygments_lexer": "ipython3",
   "version": "3.11.3"
  },
  "orig_nbformat": 4
 },
 "nbformat": 4,
 "nbformat_minor": 2
}
